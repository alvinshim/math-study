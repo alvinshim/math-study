{
 "cells": [
  {
   "cell_type": "markdown",
   "metadata": {},
   "source": [
    "### 함수 기초  \n",
    "input x -> black box -> output y  \n",
    "x값 하나에 대해서 y값 하나가 나오는 관계를 '대응'이라고 함.  \n",
    "  \n",
    "함수 : 집합 X의 **모든 원소**들이 집합 Y의 원소들과 **하나씩**만 대응할 때, '집합 X에서 집합 Y로의 함수'라고 표현.  \n",
    "$f:X \\to Y$  \n",
    "정의역 / 공역 / 치역  \n",
    "치역 $\\subset$ 공역  \n",
    "  \n",
    "### 여러가지 함수  \n",
    "1. 일대일 함수, 일대일 대응  \n",
    "$x_1 \\neq x_2 \\to f(x_1) \\neq f(x_2)$  \n",
    "위 조건을 만족하면서,  \n",
    "공역 $=$ 치역 : 일대일 대응  \n",
    "공역 $\\neq$ 치역 : 일대일 함수  \n",
    "  \n",
    "2. 항등 함수  \n",
    "$x=f(x)=y$  \n",
    "  \n",
    "3. 상수 함수  \n",
    "input에 관계 없이 ouput이 항상 똑같은 함수  \n",
    "  \n",
    "4. 서로 같은 함수  \n",
    "   - 정의역이 동일  \n",
    "   - $f(x)=g(x)$  \n",
    "\n",
    "### 합성함수  \n",
    "$f:X \\to Y$  \n",
    "$g:Y \\to Z$  \n",
    "$g \\circ f:X \\to Z$  \n",
    "합성함수에서 교환법칙은 성립하지 않는다.  \n",
    "(단, 하나의 함수가 항등 함수이면 성립)\n",
    "결합법칙은 성립한다.  \n",
    "  \n",
    "### 역함수  \n",
    "$f:X \\to Y$  \n",
    "$y=f(x)$  \n",
    "f가 **일대일 대응**일 때만 역함수가 존재  \n",
    "$f^{-1}:Y \\to X$  \n",
    "$x=f^{-1}(y)$  \n",
    "함수인지 아닌지 판단 : vertical line test  \n",
    "역함수의 존재(일대일 대응) 여부 판단 : horizontal line test  \n",
    "  \n",
    "역함수의 성질  \n",
    "1) $(f^{-1})^{-1}=f$  \n",
    "2) $f^{-1} \\circ f=I_x$  \n",
    "$f \\circ f^{-1}=I_y$  \n",
    "3) $(g \\circ f)^{-1}=f^{-1} \\circ g^{-1}$  \n",
    "  \n",
    "역함수 그래프의 성질  \n",
    "$y=x$ 에 대칭  \n",
    "두 역함수의 교점은 $y=x$ 위에 생긴다.  "
   ]
  }
 ],
 "metadata": {
  "kernelspec": {
   "display_name": "Python 3",
   "language": "python",
   "name": "python3"
  },
  "language_info": {
   "codemirror_mode": {
    "name": "ipython",
    "version": 3
   },
   "file_extension": ".py",
   "mimetype": "text/x-python",
   "name": "python",
   "nbconvert_exporter": "python",
   "pygments_lexer": "ipython3",
   "version": "3.6.6"
  }
 },
 "nbformat": 4,
 "nbformat_minor": 2
}
