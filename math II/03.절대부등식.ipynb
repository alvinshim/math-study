{
 "cells": [
  {
   "cell_type": "markdown",
   "metadata": {},
   "source": [
    "## 절대부등식\n",
    "1) $a^2\\pm ab+b^2\\geq 0$  \n",
    "$(a\\pm \\frac{b}{2})^2-\\frac{b^2}{4}+b^2=(a\\pm \\frac{b}{2})^2+\\frac{3}{4}b^2 \\geq 0$  \n",
    "2) $a^2\\pm 2ab+b^2\\geq 0$  \n",
    "3) $a^2+b^2+c^2-2ab-2bc-2ca \\geq 0$  \n",
    "4) $a^3+b^3+c^3 \\geq 3abc$ (a, b, c가 양수)\n",
    "\n",
    "### 산술평균, 기하평균, 조화평균\n",
    "산술평균 : $\\frac{a+b}{2}$  \n",
    "기하평균 : $\\sqrt{ab}$  \n",
    "조화평균 : $\\frac{2ab}{a+b}$  \n",
    "(a, b 모두 양수)\n",
    "$\\frac{a+b}{2} \\geq \\sqrt{ab} \\geq \\frac{2ab}{a+b}$  \n",
    "\n",
    "### 코시-슈바르츠 부등식\n",
    "a, b, c, d 가 실수  \n",
    "$(a^2+b^2)(c^2+d^2) \\geq (ac+bd)^2$  "
   ]
  },
  {
   "cell_type": "code",
   "execution_count": null,
   "metadata": {},
   "outputs": [],
   "source": []
  }
 ],
 "metadata": {
  "kernelspec": {
   "display_name": "Python 3",
   "language": "python",
   "name": "python3"
  },
  "language_info": {
   "codemirror_mode": {
    "name": "ipython",
    "version": 3
   },
   "file_extension": ".py",
   "mimetype": "text/x-python",
   "name": "python",
   "nbconvert_exporter": "python",
   "pygments_lexer": "ipython3",
   "version": "3.6.6"
  }
 },
 "nbformat": 4,
 "nbformat_minor": 2
}
